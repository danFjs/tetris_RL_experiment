{
 "cells": [
  {
   "attachments": {},
   "cell_type": "markdown",
   "metadata": {},
   "source": [
    "# Imports"
   ]
  },
  {
   "cell_type": "code",
   "execution_count": 323,
   "metadata": {},
   "outputs": [],
   "source": [
    "from stable_baselines3 import A2C,PPO\n",
    "from tetris_gym.envs.tetris_gym import TetrisGym\n",
    "from tetris_gym.wrappers.observation import ExtendedObservationWrapper\n",
    "from tetris_gym.utils.eval_utils import evaluate, create_videos\n",
    "from agent import agent\n",
    "import numpy as np\n",
    "from collections import deque\n",
    "import matplotlib.pyplot as plt\n",
    "# PyTorch\n",
    "import torch\n",
    "import torch.nn as nn\n",
    "import torch.nn.functional as F\n",
    "import torch.optim as optim\n",
    "from torch.distributions import Categorical\n",
    "import gym\n",
    "import random\n",
    "import matplotlib\n",
    "import matplotlib.pyplot as plt\n",
    "from collections import namedtuple, deque\n",
    "from itertools import count\n",
    "import math\n",
    "# set up matplotlib\n",
    "is_ipython = 'inline' in matplotlib.get_backend()\n",
    "if is_ipython:\n",
    "    from IPython import display"
   ]
  },
  {
   "cell_type": "code",
   "execution_count": null,
   "metadata": {},
   "outputs": [],
   "source": []
  },
  {
   "cell_type": "code",
   "execution_count": 324,
   "metadata": {},
   "outputs": [],
   "source": [
    "device = torch.device(\"cuda\" if torch.cuda.is_available() else \"cpu\")"
   ]
  },
  {
   "cell_type": "code",
   "execution_count": 325,
   "metadata": {},
   "outputs": [],
   "source": [
    "Transition = namedtuple('Transition',\n",
    "                        ('state', 'action1','action2', 'next_state', 'reward'))\n",
    "\n",
    "\n",
    "class ReplayMemory(object):\n",
    "\n",
    "    def __init__(self, capacity):\n",
    "        self.memory = deque([], maxlen=capacity)\n",
    "\n",
    "    def push(self, *args):\n",
    "        \"\"\"Save a transition\"\"\"\n",
    "        self.memory.append(Transition(*args))\n",
    "\n",
    "    def sample(self, batch_size):\n",
    "        return random.sample(self.memory, batch_size)\n",
    "\n",
    "    def __len__(self):\n",
    "        return len(self.memory)"
   ]
  },
  {
   "attachments": {},
   "cell_type": "markdown",
   "metadata": {},
   "source": [
    "# Env"
   ]
  },
  {
   "cell_type": "code",
   "execution_count": 326,
   "metadata": {},
   "outputs": [],
   "source": [
    "env = TetrisGym(width=10, height=20)"
   ]
  },
  {
   "cell_type": "code",
   "execution_count": 327,
   "metadata": {},
   "outputs": [],
   "source": [
    "env = ExtendedObservationWrapper(env)"
   ]
  },
  {
   "cell_type": "code",
   "execution_count": 328,
   "metadata": {},
   "outputs": [],
   "source": [
    "class CustomRewardWrapper(gym.Wrapper):\n",
    "    \n",
    "    def __init__(self, env):\n",
    "        super().__init__(env)\n",
    "    # Felülírjük a környezet beépített step függvényét\n",
    "    def step(self, action):\n",
    "\n",
    "        # Meghívjuk az eredeti környezet step függvényét\n",
    "        obs, reward, done, info = self.env.step(action)\n",
    "\n",
    "        # Új jutalmat számítunk, minél jobban eldől az inga vagy elmozog a\n",
    "        # kocsi, annál jobban büntetjük\n",
    "        line_reward = 10\n",
    "        hole_reward = 0.003\n",
    "        bumpiness_reward = 0.005\n",
    "        height_reward = 0.002\n",
    "        lines_cleared = self.env.get_state_properties(obs['board'])[0]\n",
    "        holes = self.env.get_state_properties(obs['board'])[1]\n",
    "        bumpiness = self.env.get_state_properties(obs['board'])[2]\n",
    "        height = self.env.get_state_properties(obs['board'])[3]\n",
    "        reward = ((pow(line_reward*lines_cleared,2))+10\n",
    "        )\n",
    "\n",
    "        \n",
    "        return obs, reward, done, info"
   ]
  },
  {
   "cell_type": "code",
   "execution_count": 329,
   "metadata": {},
   "outputs": [],
   "source": [
    "env = CustomRewardWrapper(env)"
   ]
  },
  {
   "attachments": {},
   "cell_type": "markdown",
   "metadata": {},
   "source": [
    "# Net"
   ]
  },
  {
   "cell_type": "code",
   "execution_count": 330,
   "metadata": {},
   "outputs": [],
   "source": [
    "class DQN(nn.Module):\n",
    "    def __init__(self, s_size, a1_size, a2_size, h_size):\n",
    "        super(DQN, self).__init__()\n",
    "        self.fc1 = nn.Linear(s_size, h_size)\n",
    "\n",
    "        self.fch1 = nn.Linear(h_size,h_size)\n",
    "        self.fch2 = nn.Linear(h_size,h_size)\n",
    "        self.drop1 = nn.Dropout(0.5)\n",
    "        self.fch3 = nn.Linear(h_size,h_size)\n",
    "        self.drop2 = nn.Dropout(0.2)\n",
    "        self.fc21 = nn.Linear(h_size, h_size/2)\n",
    "        self.fc22 = nn.Linear(h_size, h_size/2)\n",
    "        self.fch21 = nn.Linear(h_size/2, a1_size)\n",
    "        self.fch22 = nn.Linear(h_size/2, a2_size)\n",
    "    def forward(self, x):\n",
    "        x = F.relu(self.fc1(x))\n",
    "        x = F.relu(self.fch1(x))\n",
    "        x = F.relu(self.drop1(self.fch2(x)))\n",
    "        x = F.relu(self.drop2(self.fch3(x)))\n",
    "        out1 = F.relu(self.fc21(x))\n",
    "        out2 = F.relu(self.fc22(x))\n",
    "        out1 = self.fch21(out1)\n",
    "        out2 = self.fch22(out2)\n",
    "        return [F.sigmoid(out1, dim=1),F.sigmoid(out2, dim=1)]\n",
    "    \n",
    "    def act(self, state):\n",
    "        state = torch.from_numpy(np.concatenate([state['board'].flatten(),state['piece']])).float().unsqueeze(0).to(device)\n",
    "        probs1 = self.forward(state)[0].cpu()\n",
    "        probs2 = self.forward(state)[1].cpu()\n",
    "        m1 = Categorical(probs1)\n",
    "        action1 = m1.sample()\n",
    "        m2 = Categorical(probs2)\n",
    "        action2 = m2.sample()\n",
    "        return (action1.item(),action2.item()),(m1.log_prob(action1),m2.log_prob(action2))\n",
    "    def predict(self,state):\n",
    "        action =self.act(state)\n",
    "        act1,_ = action[0]\n",
    "        act2,_ = action[1]\n",
    "        return act1,act2"
   ]
  },
  {
   "attachments": {},
   "cell_type": "markdown",
   "metadata": {},
   "source": [
    "# Train"
   ]
  },
  {
   "cell_type": "code",
   "execution_count": 331,
   "metadata": {},
   "outputs": [],
   "source": [
    "# BATCH_SIZE is the number of transitions sampled from the replay buffer\n",
    "# GAMMA is the discount factor as mentioned in the previous section\n",
    "# EPS_START is the starting value of epsilon\n",
    "# EPS_END is the final value of epsilon\n",
    "# EPS_DECAY controls the rate of exponential decay of epsilon, higher means a slower decay\n",
    "# TAU is the update rate of the target network\n",
    "# LR is the learning rate of the ``AdamW`` optimizer\n",
    "BATCH_SIZE = 128\n",
    "GAMMA = 0.97\n",
    "EPS_START = 0.9\n",
    "EPS_END = 0.05\n",
    "EPS_DECAY = 1000\n",
    "TAU = 0.05\n",
    "LR = 1e-2\n",
    "# Get number of actions from gym action space\n",
    "state_size = env.observation_space['board'].shape[0]*env.observation_space['board'].shape[1]\n",
    "ac1_size = env.action_space[0].n\n",
    "ac2_size = env.action_space[1].n\n",
    "# Get the number of state observations\n",
    "state = env.reset()\n",
    "n_observations = len(state)\n",
    "\n",
    "policy_net = DQN(state_size+1, ac1_size,ac2_size,600).to(device)\n",
    "target_net = DQN(state_size+1, ac1_size,ac2_size,600).to(device)\n",
    "target_net.load_state_dict(policy_net.state_dict())\n",
    "\n",
    "optimizer = optim.SGD(policy_net.parameters(), lr=LR)\n",
    "memory = ReplayMemory(10000)\n",
    "\n",
    "\n",
    "steps_done = 0\n",
    "\n",
    "\n",
    "def select_action(state):\n",
    "    global steps_done\n",
    "    sample = random.random()\n",
    "    eps_threshold = EPS_END + (EPS_START - EPS_END) * \\\n",
    "        math.exp(-1. * steps_done / EPS_DECAY)\n",
    "    steps_done += 1\n",
    "    if sample > eps_threshold:\n",
    "        with torch.no_grad():\n",
    "            # t.max(1) will return the largest column value of each row.\n",
    "            # second column on max result is index of where max element was\n",
    "            # found, so we pick action with the larger expected reward.\n",
    "            r1,r2 = policy_net(state)\n",
    "            r1 = r1.max(1)[1].view(1, 1)\n",
    "            r2 = r2.max(1)[1].view(1, 1)\n",
    "            \n",
    "            return r1,r2\n",
    "    else:\n",
    "        r1 = torch.tensor([[env.action_space.sample()[0]]], device=device, dtype=torch.long)\n",
    "        r2 = torch.tensor([[env.action_space.sample()[1]]], device=device, dtype=torch.long)\n",
    "        \n",
    "        return r1,r2\n",
    "\n",
    "\n",
    "episode_durations = []\n",
    "\n",
    "def plot_durations(show_result=False):\n",
    "    plt.subplot(1, 2, 1)\n",
    "    durations_t = torch.tensor(episode_durations, dtype=torch.float)\n",
    "    if show_result:\n",
    "        plt.title('Result')\n",
    "    else:\n",
    "        plt.clf()\n",
    "        plt.title('Training...')\n",
    "    plt.xlabel('Episode')\n",
    "    plt.ylabel('Duration')\n",
    "    plt.plot(durations_t.numpy())\n",
    "    # Take 100 episode averages and plot them too\n",
    "    if len(durations_t) >= 100:\n",
    "        means = durations_t.unfold(0, 100, 1).mean(1).view(-1)\n",
    "        means = torch.cat((torch.zeros(99), means))\n",
    "        plt.plot(means.numpy())\n",
    "\n",
    "    plt.pause(0.001)  # pause a bit so that plots are updated\n",
    "    if is_ipython:\n",
    "        if not show_result:\n",
    "            display.display(plt.gcf())\n",
    "            display.clear_output(wait=True)\n",
    "        else:\n",
    "            display.display(plt.gcf())"
   ]
  },
  {
   "cell_type": "code",
   "execution_count": 332,
   "metadata": {},
   "outputs": [],
   "source": [
    "def optimize_model():\n",
    "    if len(memory) < BATCH_SIZE:\n",
    "        return\n",
    "    transitions = memory.sample(BATCH_SIZE)\n",
    "    # Transpose the batch (see https://stackoverflow.com/a/19343/3343043 for\n",
    "    # detailed explanation). This converts batch-array of Transitions\n",
    "    # to Transition of batch-arrays.\n",
    "    batch = Transition(*zip(*transitions))\n",
    "\n",
    "    # Compute a mask of non-final states and concatenate the batch elements\n",
    "    # (a final state would've been the one after which simulation ended)\n",
    "    non_final_mask = torch.tensor(tuple(map(lambda s: s is not None,\n",
    "                                          batch.next_state)), device=device, dtype=torch.bool)\n",
    "    non_final_next_states = torch.cat([s for s in batch.next_state\n",
    "                                                if s is not None])\n",
    "    state_batch = torch.cat(batch.state)\n",
    "    action_batch1 = torch.cat(batch.action1)\n",
    "    action_batch2 = torch.cat(batch.action2)\n",
    "    reward_batch = torch.cat(batch.reward)\n",
    "\n",
    "    # Compute Q(s_t, a) - the model computes Q(s_t), then we select the\n",
    "    # columns of actions taken. These are the actions which would've been taken\n",
    "    # for each batch state according to policy_net\n",
    "    qst1,qst2 = policy_net(state_batch)\n",
    "    #Q_s_t =torch.tensor(, dtype=torch.float32, device=device).unsqueeze(0) \n",
    "    state_action_values1 = qst1.gather(1, action_batch1)\n",
    "    state_action_values2 = qst2.gather(1, action_batch2)\n",
    "    # Compute V(s_{t+1}) for all next states.\n",
    "    # Expected values of actions for non_final_next_states are computed based\n",
    "    # on the \"older\" target_net; selecting their best reward with max(1)[0].\n",
    "    # This is merged based on the mask, such that we'll have either the expected\n",
    "    # state value or 0 in case the state was final.\n",
    "    next_state_values1 = torch.zeros(BATCH_SIZE, device=device)\n",
    "    next_state_values2 = torch.zeros(BATCH_SIZE, device=device)\n",
    "    with torch.no_grad():\n",
    "        next_state_values1[non_final_mask] = target_net(non_final_next_states)[0].max(1)[0]\n",
    "        next_state_values2[non_final_mask] = target_net(non_final_next_states)[1].max(1)[0]\n",
    "    # Compute the expected Q values\n",
    "    expected_state_action_values1 = (next_state_values1 * GAMMA) + reward_batch\n",
    "    expected_state_action_values2 = (next_state_values2 * GAMMA) + reward_batch\n",
    "    # Compute Huber loss\n",
    "    criterion = nn.SmoothL1Loss()\n",
    "    loss = criterion(state_action_values1, expected_state_action_values1.unsqueeze(1))\n",
    "    loss += criterion(state_action_values2, expected_state_action_values2.unsqueeze(1))\n",
    "    # Optimize the model\n",
    "    optimizer.zero_grad()\n",
    "    loss.backward()\n",
    "    # In-place gradient clipping\n",
    "    torch.nn.utils.clip_grad_value_(policy_net.parameters(), 100)\n",
    "    optimizer.step()"
   ]
  },
  {
   "cell_type": "code",
   "execution_count": 333,
   "metadata": {},
   "outputs": [],
   "source": [
    "reward_list = []\n",
    "def plot_rewards(show_result=False):\n",
    "    plt.subplot(1, 2, 2)\n",
    "    durations_t = torch.tensor(reward_list, dtype=torch.float)\n",
    "    if show_result:\n",
    "        plt.title('Result')\n",
    "    else:\n",
    "        plt.clf()\n",
    "        plt.title('Training...')\n",
    "    plt.xlabel('Episode')\n",
    "    plt.ylabel('reward')\n",
    "    plt.plot(reward_list)\n",
    "    # Take 100 episode averages and plot them too\n",
    "    if len(durations_t) >= 100:\n",
    "        means = durations_t.unfold(0, 100, 1).mean(1).view(-1)\n",
    "        means = torch.cat((torch.zeros(99), means))\n",
    "        plt.plot(means.numpy())\n",
    "\n",
    "    #plt.pause(0.001)  # pause a bit so that plots are updated\n",
    "    if is_ipython:\n",
    "        if not show_result:\n",
    "            display.display(plt.gcf())\n",
    "            display.clear_output(wait=True)\n",
    "        else:\n",
    "            display.display(plt.gcf())"
   ]
  },
  {
   "cell_type": "code",
   "execution_count": 334,
   "metadata": {},
   "outputs": [
    {
     "name": "stdout",
     "output_type": "stream",
     "text": [
      "Complete\n"
     ]
    },
    {
     "data": {
      "image/png": "[encoded data removed]",
      "text/plain": [
       "<Figure size 640x480 with 1 Axes>"
      ]
     },
     "metadata": {},
     "output_type": "display_data"
    },
    {
     "data": {
      "text/plain": [
       "<Figure size 640x480 with 0 Axes>"
      ]
     },
     "metadata": {},
     "output_type": "display_data"
    },
    {
     "data": {
      "image/png": "[encoded data removed]",
      "text/plain": [
       "<Figure size 640x480 with 1 Axes>"
      ]
     },
     "metadata": {},
     "output_type": "display_data"
    },
    {
     "data": {
      "image/png": "[encoded data removed]",
      "text/plain": [
       "<Figure size 640x480 with 1 Axes>"
      ]
     },
     "metadata": {},
     "output_type": "display_data"
    }
   ],
   "source": [
    "if torch.cuda.is_available():\n",
    "    num_episodes = 600\n",
    "else:\n",
    "    num_episodes = 1000\n",
    "\n",
    "for i_episode in range(num_episodes):\n",
    "    # Initialize the environment and get it's state\n",
    "    state = env.reset()\n",
    "    state = torch.tensor(np.concatenate([state['board'].flatten(),np.array(state['piece']).flatten()],axis=0), dtype=torch.float32, device=device).unsqueeze(0)\n",
    "    for t in count():\n",
    "        action1,action2 = select_action(state)\n",
    "        observation, reward, terminated, _ = env.step((action1.item(),action2.item()))\n",
    "        reward_orig =reward\n",
    "        reward = torch.tensor([reward], device=device)\n",
    "        done = terminated\n",
    "\n",
    "        if terminated:\n",
    "            next_state = None\n",
    "        else:\n",
    "            next_state = torch.tensor(np.concatenate([observation['board'].flatten(),np.array(observation['piece']).flatten()],axis=0), dtype=torch.float32, device=device).unsqueeze(0)\n",
    "\n",
    "        # Store the transition in memory\n",
    "        memory.push(state, action1,action2, next_state, reward)\n",
    "\n",
    "        # Move to the next state\n",
    "        state = next_state\n",
    "\n",
    "        # Perform one step of the optimization (on the policy network)\n",
    "        optimize_model()\n",
    "\n",
    "        # Soft update of the target network's weights\n",
    "        # θ′ ← τ θ + (1 −τ )θ′\n",
    "        target_net_state_dict = target_net.state_dict()\n",
    "        policy_net_state_dict = policy_net.state_dict()\n",
    "        for key in policy_net_state_dict:\n",
    "            target_net_state_dict[key] = policy_net_state_dict[key]*TAU + target_net_state_dict[key]*(1-TAU)\n",
    "        target_net.load_state_dict(target_net_state_dict)\n",
    "        \n",
    "        if done:\n",
    "            episode_durations.append(t + 1)\n",
    "            reward_list.append(reward_orig)\n",
    "            #plot_rewards()\n",
    "            plot_durations()\n",
    "            break\n",
    "\n",
    "print('Complete')\n",
    "plot_durations(show_result=True)\n",
    "plot_rewards(show_result=True)\n",
    "plt.ioff()\n",
    "plt.show()"
   ]
  },
  {
   "cell_type": "code",
   "execution_count": 335,
   "metadata": {},
   "outputs": [],
   "source": [
    "PATH = \"./agent/network.zip\"\n",
    "torch.save(target_net.state_dict(), PATH)\n"
   ]
  },
  {
   "cell_type": "code",
   "execution_count": 336,
   "metadata": {},
   "outputs": [],
   "source": [
    "from tetris_gym.utils.eval_utils import create_agent_videos"
   ]
  },
  {
   "cell_type": "code",
   "execution_count": 337,
   "metadata": {},
   "outputs": [
    {
     "name": "stderr",
     "output_type": "stream",
     "text": [
      "c:\\Users\\XY\\anaconda3\\envs\\tetris_gym\\lib\\site-packages\\gym\\wrappers\\monitor.py:86: UserWarning: \u001b[33mWARN: Trying to monitor an environment which has no 'spec' set. This usually means you did not create it via 'gym.make', and is recommended only for advanced users.\u001b[0m\n",
      "  logger.warn(\n"
     ]
    },
    {
     "ename": "ValueError",
     "evalue": "all the input arrays must have same number of dimensions, but the array at index 0 has 1 dimension(s) and the array at index 1 has 0 dimension(s)",
     "output_type": "error",
     "traceback": [
      "\u001b[1;31m---------------------------------------------------------------------------\u001b[0m",
      "\u001b[1;31mValueError\u001b[0m                                Traceback (most recent call last)",
      "Cell \u001b[1;32mIn[337], line 1\u001b[0m\n\u001b[1;32m----> 1\u001b[0m create_agent_videos(env, target_net)\n",
      "File \u001b[1;32md:\\Stuff\\Egyetemi dolgok\\RL\\tetris_gym_szte\\tetris_gym\\utils\\eval_utils.py:86\u001b[0m, in \u001b[0;36mcreate_agent_videos\u001b[1;34m(env, model, ep_num, folder)\u001b[0m\n\u001b[0;32m     83\u001b[0m done \u001b[39m=\u001b[39m \u001b[39mFalse\u001b[39;00m\n\u001b[0;32m     85\u001b[0m \u001b[39mwhile\u001b[39;00m \u001b[39mnot\u001b[39;00m done:\n\u001b[1;32m---> 86\u001b[0m     action, _ \u001b[39m=\u001b[39m model\u001b[39m.\u001b[39;49mact(obs)\n\u001b[0;32m     88\u001b[0m     obs, reward, done, _ \u001b[39m=\u001b[39m env\u001b[39m.\u001b[39mstep(action)\n\u001b[0;32m     90\u001b[0m     score \u001b[39m+\u001b[39m\u001b[39m=\u001b[39m reward\n",
      "Cell \u001b[1;32mIn[330], line 23\u001b[0m, in \u001b[0;36mDQN.act\u001b[1;34m(self, state)\u001b[0m\n\u001b[0;32m     22\u001b[0m \u001b[39mdef\u001b[39;00m \u001b[39mact\u001b[39m(\u001b[39mself\u001b[39m, state):\n\u001b[1;32m---> 23\u001b[0m     state \u001b[39m=\u001b[39m torch\u001b[39m.\u001b[39mfrom_numpy(np\u001b[39m.\u001b[39;49mconcatenate([state[\u001b[39m'\u001b[39;49m\u001b[39mboard\u001b[39;49m\u001b[39m'\u001b[39;49m]\u001b[39m.\u001b[39;49mflatten(),state[\u001b[39m'\u001b[39;49m\u001b[39mpiece\u001b[39;49m\u001b[39m'\u001b[39;49m]]))\u001b[39m.\u001b[39mfloat()\u001b[39m.\u001b[39munsqueeze(\u001b[39m0\u001b[39m)\u001b[39m.\u001b[39mto(device)\n\u001b[0;32m     24\u001b[0m     probs1 \u001b[39m=\u001b[39m \u001b[39mself\u001b[39m\u001b[39m.\u001b[39mforward(state)[\u001b[39m0\u001b[39m]\u001b[39m.\u001b[39mcpu()\n\u001b[0;32m     25\u001b[0m     probs2 \u001b[39m=\u001b[39m \u001b[39mself\u001b[39m\u001b[39m.\u001b[39mforward(state)[\u001b[39m1\u001b[39m]\u001b[39m.\u001b[39mcpu()\n",
      "File \u001b[1;32m<__array_function__ internals>:200\u001b[0m, in \u001b[0;36mconcatenate\u001b[1;34m(*args, **kwargs)\u001b[0m\n",
      "\u001b[1;31mValueError\u001b[0m: all the input arrays must have same number of dimensions, but the array at index 0 has 1 dimension(s) and the array at index 1 has 0 dimension(s)"
     ]
    }
   ],
   "source": [
    "create_agent_videos(env, target_net)"
   ]
  }
 ],
 "metadata": {
  "kernelspec": {
   "display_name": "tetris_gym",
   "language": "python",
   "name": "python3"
  },
  "language_info": {
   "codemirror_mode": {
    "name": "ipython",
    "version": 3
   },
   "file_extension": ".py",
   "mimetype": "text/x-python",
   "name": "python",
   "nbconvert_exporter": "python",
   "pygments_lexer": "ipython3",
   "version": "3.10.11"
  },
  "orig_nbformat": 4
 },
 "nbformat": 4,
 "nbformat_minor": 2
}
